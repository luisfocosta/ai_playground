{
  "nbformat": 4,
  "nbformat_minor": 0,
  "metadata": {
    "colab": {
      "provenance": [],
      "include_colab_link": true
    },
    "kernelspec": {
      "name": "python3",
      "display_name": "Python 3"
    },
    "language_info": {
      "name": "python"
    }
  },
  "cells": [
    {
      "cell_type": "markdown",
      "metadata": {
        "id": "view-in-github",
        "colab_type": "text"
      },
      "source": [
        "<a href=\"https://colab.research.google.com/github/luisfocosta/ai_playground/blob/main/LangChainChatGPT.ipynb\" target=\"_parent\"><img src=\"https://colab.research.google.com/assets/colab-badge.svg\" alt=\"Open In Colab\"/></a>"
      ]
    },
    {
      "cell_type": "code",
      "source": [
        "!pip install openai langchain youtube_transcript_api chromadb unstructured"
      ],
      "metadata": {
        "id": "m55jIN_OxGSM"
      },
      "execution_count": null,
      "outputs": []
    },
    {
      "cell_type": "code",
      "execution_count": null,
      "metadata": {
        "id": "zgviSCBFw-mk"
      },
      "outputs": [],
      "source": [
        "import openai\n",
        "import os\n",
        "\n",
        "from langchain.document_loaders import DirectoryLoader\n",
        "from langchain.document_loaders import YoutubeLoader\n",
        "\n",
        "from langchain.embeddings.openai import OpenAIEmbeddings\n",
        "from langchain.vectorstores import Chroma\n",
        "\n",
        "from langchain.chains import RetrievalQA\n",
        "from langchain.chat_models import ChatOpenAI"
      ]
    },
    {
      "cell_type": "code",
      "source": [
        "os.environ[\"OPENAI_API_KEY\"] = \"<YOUR-KEY>\""
      ],
      "metadata": {
        "id": "mykBD5wJxAsP"
      },
      "execution_count": null,
      "outputs": []
    },
    {
      "cell_type": "code",
      "source": [
        "# Option 1: Load documents with DirectoryLoader\n",
        "\n",
        "from langchain.document_loaders import UnstructuredFileLoader\n",
        "loader = DirectoryLoader(\"\", glob=\"transcript.txt\")\n",
        "txt_docs = loader.load_and_split()\n",
        "\n",
        "# Option 2: Load documents (or transcribe) with YoutubeLoader\n",
        "loader = YoutubeLoader(video_id=\"XZY\", language=\"en\")\n",
        "yt_docs = loader.load_and_split()"
      ],
      "metadata": {
        "id": "3NxEJAFyZCbu"
      },
      "execution_count": null,
      "outputs": []
    },
    {
      "cell_type": "code",
      "source": [
        "# Going with option 1 (txt files)\n",
        "# Create embeddings\n",
        "embeddings = OpenAIEmbeddings()\n",
        "# Write in DB\n",
        "txt_docsearch = Chroma.from_documents(txt_docs, embeddings)\n",
        "\n",
        "# Define LLM\n",
        "llm = ChatOpenAI(model_name=\"gpt-3.5-turbo\", temperature=0.2)\n",
        "\n",
        "# Create Retriever\n",
        "# In case answers are cut-off or you get error messages (token limit)\n",
        "# use different chain_type\n",
        "qa_txt = RetrievalQA.from_chain_type(llm=llm,\n",
        "                                    chain_type=\"stuff\",\n",
        "                                    retriever=txt_docsearch.as_retriever())"
      ],
      "metadata": {
        "id": "i5F8NLjXxB5w"
      },
      "execution_count": null,
      "outputs": []
    },
    {
      "cell_type": "code",
      "source": [
        "query = \"What is the current state of the market and Sam's outlook for 2023?\"\n",
        "qa_txt.run(query)"
      ],
      "metadata": {
        "id": "Iebk38rwZjHK"
      },
      "execution_count": null,
      "outputs": []
    },
    {
      "cell_type": "code",
      "source": [
        "# Going with option 2 (yt)\n",
        "\n",
        "embeddings = OpenAIEmbeddings()\n",
        "yt_docsearch = Chroma.from_documents(yt_docs, embeddings)\n",
        "\n",
        "# Define LLM\n",
        "llm = ChatOpenAI(model_name=\"gpt-3.5-turbo\", temperature=0.2)\n",
        "\n",
        "qa_yt = RetrievalQA.from_chain_type(llm=llm,\n",
        "                                    chain_type=\"stuff\",\n",
        "                                    retriever=yt_docsearch.as_retriever())"
      ],
      "metadata": {
        "id": "TPgcP2CbxC5J"
      },
      "execution_count": null,
      "outputs": []
    },
    {
      "cell_type": "code",
      "source": [
        "query = \"What is the key message of this document?\"\n",
        "qa_yt.run(query)"
      ],
      "metadata": {
        "id": "M4GGxWzbZxfU"
      },
      "execution_count": null,
      "outputs": []
    }
  ]
}